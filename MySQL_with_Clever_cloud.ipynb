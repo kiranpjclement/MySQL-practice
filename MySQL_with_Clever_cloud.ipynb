{
 "cells": [
  {
   "cell_type": "code",
   "execution_count": 28,
   "metadata": {},
   "outputs": [],
   "source": [
    "#!pip3 install mysql-connector-python"
   ]
  },
  {
   "cell_type": "code",
   "execution_count": 5,
   "metadata": {},
   "outputs": [],
   "source": [
    "import mysql.connector\n",
    "import pandas as pd"
   ]
  },
  {
   "cell_type": "code",
   "execution_count": 47,
   "metadata": {},
   "outputs": [],
   "source": [
    "\n",
    "\n",
    "connection = mysql.connector.connect(\n",
    "  host=\"b8rzawgklevuix0zi5mu-mysql.services.clever-cloud.com\", # replace username, hostname, password and database name appropriately\n",
    "  user=\"uof0m19h2v9tclea\",\n",
    "  password=\"1Qm5vnauBiqPLB4KtlZI\",\n",
    "  database=\"b8rzawgklevuix0zi5mu\"\n",
    ")\n",
    "\n",
    "cursor1 = connection.cursor()"
   ]
  },
  {
   "cell_type": "code",
   "execution_count": 48,
   "metadata": {},
   "outputs": [],
   "source": [
    "#cursor1.execute(\"CREATE TABLE Test_table (name VARCHAR(255), place VARCHAR(255))\")"
   ]
  },
  {
   "cell_type": "code",
   "execution_count": 50,
   "metadata": {},
   "outputs": [
    {
     "name": "stdout",
     "output_type": "stream",
     "text": [
      "('Test_table',)\n",
      "('subject',)\n"
     ]
    }
   ],
   "source": [
    "cursor1.execute(\"SHOW TABLES\")\n",
    "\n",
    "for x in cursor1:\n",
    "    print(x)"
   ]
  },
  {
   "cell_type": "code",
   "execution_count": 51,
   "metadata": {},
   "outputs": [],
   "source": [
    "#cursor1.execute(\"CREATE TABLE subject (id INT AUTO_INCREMENT PRIMARY KEY, name VARCHAR(255), teacher VARCHAR(255))\") "
   ]
  },
  {
   "cell_type": "code",
   "execution_count": 52,
   "metadata": {},
   "outputs": [],
   "source": [
    "#cursor1.execute(\"ALTER TABLE Test_table ADD COLUMN id INT AUTO_INCREMENT PRIMARY KEY\") "
   ]
  },
  {
   "cell_type": "code",
   "execution_count": 53,
   "metadata": {},
   "outputs": [],
   "source": [
    "cursor1.execute(\"ALTER TABLE Test_table  AUTO_INCREMENT=0\") "
   ]
  },
  {
   "cell_type": "markdown",
   "metadata": {},
   "source": [
    "#### INSERT TUPLES INTO THE DF"
   ]
  },
  {
   "cell_type": "code",
   "execution_count": 54,
   "metadata": {},
   "outputs": [],
   "source": [
    "sql=\"INSERT INTO Test_table (name,place) VALUES (%s ,%s)\"  #insert a single tuple\n",
    "val=('Kiran','Pune')\n",
    "\n",
    "cursor1.execute(sql,val)"
   ]
  },
  {
   "cell_type": "code",
   "execution_count": 55,
   "metadata": {
    "scrolled": true
   },
   "outputs": [
    {
     "name": "stdout",
     "output_type": "stream",
     "text": [
      "1 tuple inserted\n"
     ]
    }
   ],
   "source": [
    "connection.commit()\n",
    "print(cursor1.rowcount,\"tuple inserted\")"
   ]
  },
  {
   "cell_type": "code",
   "execution_count": 56,
   "metadata": {},
   "outputs": [
    {
     "ename": "TypeError",
     "evalue": "execute() missing 1 required positional argument: 'operation'",
     "output_type": "error",
     "traceback": [
      "\u001b[1;31m---------------------------------------------------------------------------\u001b[0m",
      "\u001b[1;31mTypeError\u001b[0m                                 Traceback (most recent call last)",
      "\u001b[1;32m<ipython-input-56-788a9d710628>\u001b[0m in \u001b[0;36m<module>\u001b[1;34m\u001b[0m\n\u001b[1;32m----> 1\u001b[1;33m \u001b[0mcursor1\u001b[0m\u001b[1;33m.\u001b[0m\u001b[0mexecute\u001b[0m\u001b[1;33m(\u001b[0m\u001b[1;33m)\u001b[0m\u001b[1;33m\u001b[0m\u001b[1;33m\u001b[0m\u001b[0m\n\u001b[0m",
      "\u001b[1;31mTypeError\u001b[0m: execute() missing 1 required positional argument: 'operation'"
     ]
    }
   ],
   "source": [
    "cursor1.execute()"
   ]
  },
  {
   "cell_type": "code",
   "execution_count": 57,
   "metadata": {},
   "outputs": [],
   "source": [
    "#cursor1 = connection.cursor()\n",
    "sql=\"INSERT INTO Test_table(name,place) VALUES (%s,%s)\"\n",
    "\n",
    "val=[('christina','Cov'),\n",
    "    ('Sharlene','Cov')]\n",
    "\n",
    "cursor1.executemany(sql,val)"
   ]
  },
  {
   "cell_type": "code",
   "execution_count": 58,
   "metadata": {},
   "outputs": [
    {
     "name": "stdout",
     "output_type": "stream",
     "text": [
      "2 tuple were inserted\n"
     ]
    }
   ],
   "source": [
    "print(cursor1.rowcount,'tuple were inserted')"
   ]
  },
  {
   "cell_type": "markdown",
   "metadata": {},
   "source": [
    "#### SELECT DATA FROM A TABLE"
   ]
  },
  {
   "cell_type": "code",
   "execution_count": 59,
   "metadata": {},
   "outputs": [],
   "source": [
    "cursor1.execute(\"SELECT * FROM Test_table\")"
   ]
  },
  {
   "cell_type": "code",
   "execution_count": 60,
   "metadata": {},
   "outputs": [
    {
     "name": "stdout",
     "output_type": "stream",
     "text": [
      "('Kiran', 'Pune', 1)\n"
     ]
    }
   ],
   "source": [
    "result1 =cursor1.fetchone()   #fetch the first tuple\n",
    "print(result1)"
   ]
  },
  {
   "cell_type": "code",
   "execution_count": 61,
   "metadata": {},
   "outputs": [
    {
     "name": "stdout",
     "output_type": "stream",
     "text": [
      "('christina', 'Cov', 2)\n",
      "('Sharlene', 'Cov', 3)\n",
      "('Kiran', 'Pune', 4)\n",
      "('Kiran', 'Pune', 5)\n",
      "('Kiran', 'Pune', 6)\n",
      "('christina', 'Cov', 7)\n",
      "('Sharlene', 'Cov', 8)\n"
     ]
    }
   ],
   "source": [
    "result2=cursor1.fetchall()   #fetch all the tuple\n",
    "\n",
    "for i in result2:\n",
    "    print(i)"
   ]
  },
  {
   "cell_type": "code",
   "execution_count": 62,
   "metadata": {},
   "outputs": [
    {
     "name": "stdout",
     "output_type": "stream",
     "text": [
      "('Kiran',)\n",
      "('christina',)\n",
      "('Sharlene',)\n",
      "('Kiran',)\n",
      "('Kiran',)\n",
      "('Kiran',)\n",
      "('christina',)\n",
      "('Sharlene',)\n"
     ]
    }
   ],
   "source": [
    "cursor1.execute(\"SELECT name FROM Test_table\")\n",
    "\n",
    "myresult3 =cursor1.fetchall()\n",
    "\n",
    "for i in myresult3:\n",
    "    print(i)"
   ]
  },
  {
   "cell_type": "code",
   "execution_count": 65,
   "metadata": {},
   "outputs": [
    {
     "name": "stdout",
     "output_type": "stream",
     "text": [
      "('Pune',)\n",
      "('Cov',)\n",
      "('Cov',)\n",
      "('Pune',)\n",
      "('Pune',)\n",
      "('Pune',)\n",
      "('Cov',)\n",
      "('Cov',)\n"
     ]
    }
   ],
   "source": [
    "cursor1.execute(\"SELECT place FROM Test_table\")\n",
    "\n",
    "myresult4 =cursor1.fetchall()\n",
    "\n",
    "for i in myresult4:\n",
    "    print(i)"
   ]
  },
  {
   "cell_type": "code",
   "execution_count": 64,
   "metadata": {},
   "outputs": [
    {
     "name": "stdout",
     "output_type": "stream",
     "text": [
      "('Kiran', 'Pune')\n",
      "('christina', 'Cov')\n",
      "('Sharlene', 'Cov')\n",
      "('Kiran', 'Pune')\n",
      "('Kiran', 'Pune')\n",
      "('Kiran', 'Pune')\n",
      "('christina', 'Cov')\n",
      "('Sharlene', 'Cov')\n"
     ]
    }
   ],
   "source": [
    "cursor1.execute(\"SELECT name ,place FROM Test_table\")\n",
    "myresult5 =cursor1.fetchall()\n",
    "\n",
    "for i in myresult5:\n",
    "    print(i)"
   ]
  },
  {
   "cell_type": "markdown",
   "metadata": {},
   "source": [
    "#### Limit the Display"
   ]
  },
  {
   "cell_type": "code",
   "execution_count": 38,
   "metadata": {},
   "outputs": [
    {
     "name": "stdout",
     "output_type": "stream",
     "text": [
      "('Kiran', 'Pune', 1)\n",
      "('christina', 'Cov', 2)\n"
     ]
    }
   ],
   "source": [
    "cursor1.execute( \"SELECT * FROM Test_table LIMIT 2\")  #show only two results\n",
    "\n",
    "result2 =cursor1.fetchall()\n",
    "\n",
    "for x in result2:\n",
    "    print(x)"
   ]
  },
  {
   "cell_type": "markdown",
   "metadata": {},
   "source": [
    "#### Filter Application"
   ]
  },
  {
   "cell_type": "code",
   "execution_count": 39,
   "metadata": {},
   "outputs": [
    {
     "name": "stdout",
     "output_type": "stream",
     "text": [
      "('Kiran', 'Pune')\n",
      "('Kiran', 'Pune')\n",
      "('Kiran', 'Pune')\n"
     ]
    }
   ],
   "source": [
    "funct1=\"SELECT name ,place FROM Test_table WHERE name ='Kiran'\"\n",
    "cursor1.execute(funct1)\n",
    "result_6 =cursor1.fetchall()\n",
    "\n",
    "for i in result_6:\n",
    "    print(i)"
   ]
  },
  {
   "cell_type": "code",
   "execution_count": 40,
   "metadata": {
    "scrolled": true
   },
   "outputs": [
    {
     "name": "stdout",
     "output_type": "stream",
     "text": [
      "[('Kiran', 'Pune'), ('Kiran', 'Pune'), ('Kiran', 'Pune')]\n"
     ]
    }
   ],
   "source": [
    "print(result_6)"
   ]
  },
  {
   "cell_type": "markdown",
   "metadata": {},
   "source": [
    "#### Delete Tuples"
   ]
  },
  {
   "cell_type": "code",
   "execution_count": 13,
   "metadata": {},
   "outputs": [
    {
     "name": "stdout",
     "output_type": "stream",
     "text": [
      "3 are delected\n"
     ]
    }
   ],
   "source": [
    "funct2= \"DELETE FROM Test_table WHERE name ='Kiran'\"\n",
    "\n",
    "cursor1.execute(funct2)\n",
    "\n",
    "print(cursor1.rowcount, \"are delected\")"
   ]
  },
  {
   "cell_type": "markdown",
   "metadata": {},
   "source": [
    "#### Fetch Data with Filter"
   ]
  },
  {
   "cell_type": "code",
   "execution_count": 21,
   "metadata": {},
   "outputs": [
    {
     "name": "stdout",
     "output_type": "stream",
     "text": [
      "(1,)\n"
     ]
    }
   ],
   "source": [
    "funct4=\"SELECT count(*) FROM Test_table WHERE name ='Christina'\"\n",
    "\n",
    "cursor1.execute(funct4)\n",
    "\n",
    "result4=cursor1.fetchall()\n",
    "\n",
    "for i in result4:\n",
    "    print(i)"
   ]
  },
  {
   "cell_type": "markdown",
   "metadata": {},
   "source": [
    "#### Table Updation"
   ]
  },
  {
   "cell_type": "code",
   "execution_count": 33,
   "metadata": {},
   "outputs": [
    {
     "name": "stdout",
     "output_type": "stream",
     "text": [
      "3 are affected\n"
     ]
    }
   ],
   "source": [
    "funct5=\"UPDATE Test_table SET name ='kc' WHERE name ='Kiran'\"\n",
    "\n",
    "cursor1.execute(funct5)\n",
    "\n",
    "print(cursor1.rowcount, 'are affected')"
   ]
  },
  {
   "cell_type": "code",
   "execution_count": 34,
   "metadata": {},
   "outputs": [
    {
     "name": "stdout",
     "output_type": "stream",
     "text": [
      "('kc', 'Pune')\n",
      "('Christina C', 'Cov')\n",
      "('Sharlene', 'Cov')\n",
      "('kc', 'Pune')\n",
      "('kc', 'Pune')\n"
     ]
    }
   ],
   "source": [
    "#to check the table for changes\n",
    "funt1=\"SELECT name ,place FROM Test_table \"\n",
    "cursor1.execute(funt1)\n",
    "result_6 =cursor1.fetchall()\n",
    "\n",
    "for i in result_6:\n",
    "    print(i)"
   ]
  },
  {
   "cell_type": "markdown",
   "metadata": {},
   "source": [
    "#### Count the data in the Table"
   ]
  },
  {
   "cell_type": "code",
   "execution_count": 17,
   "metadata": {},
   "outputs": [
    {
     "name": "stdout",
     "output_type": "stream",
     "text": [
      "(2,)\n"
     ]
    }
   ],
   "source": [
    "filt3= \"SELECT count(*) FROM Test_table\"\n",
    "\n",
    "cursor1.execute(filt3)\n",
    "\n",
    "result3 =cursor1.fetchall()\n",
    "\n",
    "for x in result3:\n",
    "        print(x)"
   ]
  },
  {
   "cell_type": "markdown",
   "metadata": {},
   "source": [
    "#### CONVERT INTO PANDAS DF FOR ANALYSIS"
   ]
  },
  {
   "cell_type": "code",
   "execution_count": 66,
   "metadata": {},
   "outputs": [
    {
     "name": "stdout",
     "output_type": "stream",
     "text": [
      "[('christina', 'Cov', 2), ('Sharlene', 'Cov', 3), ('Kiran', 'Pune', 4), ('Kiran', 'Pune', 5), ('Kiran', 'Pune', 6), ('christina', 'Cov', 7), ('Sharlene', 'Cov', 8)]\n"
     ]
    }
   ],
   "source": [
    "print(result2)"
   ]
  },
  {
   "cell_type": "code",
   "execution_count": 74,
   "metadata": {},
   "outputs": [
    {
     "data": {
      "text/plain": [
       "[(('christina', 'Cov', 2),),\n",
       " (('Sharlene', 'Cov', 3),),\n",
       " (('Kiran', 'Pune', 4),),\n",
       " (('Kiran', 'Pune', 5),),\n",
       " (('Kiran', 'Pune', 6),),\n",
       " (('christina', 'Cov', 7),),\n",
       " (('Sharlene', 'Cov', 8),)]"
      ]
     },
     "execution_count": 74,
     "metadata": {},
     "output_type": "execute_result"
    }
   ],
   "source": [
    "col1=list(zip(result2))  #this is just to show the difference of list creation without the * in the command\n",
    "col1"
   ]
  },
  {
   "cell_type": "code",
   "execution_count": 75,
   "metadata": {},
   "outputs": [
    {
     "data": {
      "text/plain": [
       "[('christina', 'Sharlene', 'Kiran', 'Kiran', 'Kiran', 'christina', 'Sharlene'),\n",
       " ('Cov', 'Cov', 'Pune', 'Pune', 'Pune', 'Cov', 'Cov'),\n",
       " (2, 3, 4, 5, 6, 7, 8)]"
      ]
     },
     "execution_count": 75,
     "metadata": {},
     "output_type": "execute_result"
    }
   ],
   "source": [
    "col2=list(zip(*result2))\n",
    "col2"
   ]
  },
  {
   "cell_type": "code",
   "execution_count": 79,
   "metadata": {},
   "outputs": [],
   "source": [
    "df=pd.DataFrame({'name':col2[0],'address':col2[1]})"
   ]
  },
  {
   "cell_type": "code",
   "execution_count": 80,
   "metadata": {
    "scrolled": true
   },
   "outputs": [
    {
     "data": {
      "text/html": [
       "<div>\n",
       "<style scoped>\n",
       "    .dataframe tbody tr th:only-of-type {\n",
       "        vertical-align: middle;\n",
       "    }\n",
       "\n",
       "    .dataframe tbody tr th {\n",
       "        vertical-align: top;\n",
       "    }\n",
       "\n",
       "    .dataframe thead th {\n",
       "        text-align: right;\n",
       "    }\n",
       "</style>\n",
       "<table border=\"1\" class=\"dataframe\">\n",
       "  <thead>\n",
       "    <tr style=\"text-align: right;\">\n",
       "      <th></th>\n",
       "      <th>name</th>\n",
       "      <th>address</th>\n",
       "    </tr>\n",
       "  </thead>\n",
       "  <tbody>\n",
       "    <tr>\n",
       "      <th>0</th>\n",
       "      <td>christina</td>\n",
       "      <td>Cov</td>\n",
       "    </tr>\n",
       "    <tr>\n",
       "      <th>1</th>\n",
       "      <td>Sharlene</td>\n",
       "      <td>Cov</td>\n",
       "    </tr>\n",
       "    <tr>\n",
       "      <th>2</th>\n",
       "      <td>Kiran</td>\n",
       "      <td>Pune</td>\n",
       "    </tr>\n",
       "    <tr>\n",
       "      <th>3</th>\n",
       "      <td>Kiran</td>\n",
       "      <td>Pune</td>\n",
       "    </tr>\n",
       "    <tr>\n",
       "      <th>4</th>\n",
       "      <td>Kiran</td>\n",
       "      <td>Pune</td>\n",
       "    </tr>\n",
       "    <tr>\n",
       "      <th>5</th>\n",
       "      <td>christina</td>\n",
       "      <td>Cov</td>\n",
       "    </tr>\n",
       "    <tr>\n",
       "      <th>6</th>\n",
       "      <td>Sharlene</td>\n",
       "      <td>Cov</td>\n",
       "    </tr>\n",
       "  </tbody>\n",
       "</table>\n",
       "</div>"
      ],
      "text/plain": [
       "        name address\n",
       "0  christina     Cov\n",
       "1   Sharlene     Cov\n",
       "2      Kiran    Pune\n",
       "3      Kiran    Pune\n",
       "4      Kiran    Pune\n",
       "5  christina     Cov\n",
       "6   Sharlene     Cov"
      ]
     },
     "execution_count": 80,
     "metadata": {},
     "output_type": "execute_result"
    }
   ],
   "source": [
    "df"
   ]
  },
  {
   "cell_type": "markdown",
   "metadata": {},
   "source": [
    "#### Table Delection"
   ]
  },
  {
   "cell_type": "code",
   "execution_count": 81,
   "metadata": {},
   "outputs": [],
   "source": [
    "funct6= \"DROP TABLE subject \"\n",
    "cursor1.execute(funct6)"
   ]
  },
  {
   "cell_type": "code",
   "execution_count": 82,
   "metadata": {},
   "outputs": [
    {
     "name": "stdout",
     "output_type": "stream",
     "text": [
      "('Test_table',)\n"
     ]
    }
   ],
   "source": [
    "#to display the table in db\n",
    "cursor1.execute(\"SHOW TABLES\") \n",
    "\n",
    "for x in cursor1:\n",
    "    print(x)"
   ]
  },
  {
   "cell_type": "code",
   "execution_count": null,
   "metadata": {},
   "outputs": [],
   "source": []
  },
  {
   "cell_type": "code",
   "execution_count": null,
   "metadata": {},
   "outputs": [],
   "source": []
  }
 ],
 "metadata": {
  "kernelspec": {
   "display_name": "Python 3",
   "language": "python",
   "name": "python3"
  },
  "language_info": {
   "codemirror_mode": {
    "name": "ipython",
    "version": 3
   },
   "file_extension": ".py",
   "mimetype": "text/x-python",
   "name": "python",
   "nbconvert_exporter": "python",
   "pygments_lexer": "ipython3",
   "version": "3.8.5"
  }
 },
 "nbformat": 4,
 "nbformat_minor": 4
}
