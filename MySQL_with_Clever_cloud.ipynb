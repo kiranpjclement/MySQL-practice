{
 "cells": [
  {
   "cell_type": "markdown",
   "metadata": {},
   "source": [
    "#### commenting methods"
   ]
  },
  {
   "cell_type": "code",
   "execution_count": null,
   "metadata": {},
   "outputs": [],
   "source": [
    "/* .......\n",
    " ........\n",
    "    .......*/\n",
    "    \n",
    "#single line comment\n",
    "--line of code"
   ]
  },
  {
   "cell_type": "markdown",
   "metadata": {},
   "source": [
    "#### Data Selection _Simplest"
   ]
  },
  {
   "cell_type": "code",
   "execution_count": null,
   "metadata": {},
   "outputs": [],
   "source": [
    "select column_01\n",
    "from Table_01"
   ]
  },
  {
   "cell_type": "code",
   "execution_count": null,
   "metadata": {},
   "outputs": [],
   "source": [
    "select column_01 ,column_02\n",
    "from Table_01\n",
    "limit 5; #limited to only 5 data from the db"
   ]
  },
  {
   "cell_type": "markdown",
   "metadata": {},
   "source": [
    "#### Filter"
   ]
  },
  {
   "cell_type": "code",
   "execution_count": null,
   "metadata": {},
   "outputs": [],
   "source": [
    "select col_01 ,col_02\n",
    "from table_01\n",
    "where col_01 > 10;"
   ]
  },
  {
   "cell_type": "code",
   "execution_count": null,
   "metadata": {},
   "outputs": [],
   "source": [
    "=   equal\n",
    "<>  not equal\n",
    "> / < greater than /less than\n",
    ">= greater than or equal to\n",
    "<= less than or equal to\n",
    "BETWEEN  #Inbetween two digits \n",
    "       eg :WHERE col_1 BETWEEN 15 And 25;\n",
    "IS NULL   #select a null value for conditions"
   ]
  },
  {
   "cell_type": "markdown",
   "metadata": {},
   "source": [
    "##### Filter with condition between columns"
   ]
  },
  {
   "cell_type": "code",
   "execution_count": null,
   "metadata": {},
   "outputs": [],
   "source": [
    "select col_t1_1 ,col_t1_2,col_t2_1,col_t2_2\n",
    "from table1 ,table2\n",
    "where table1.id =table2.id"
   ]
  },
  {
   "cell_type": "raw",
   "metadata": {},
   "source": [
    "the above query will match the id between the table_1 and table_2 and return the selected columns"
   ]
  },
  {
   "cell_type": "markdown",
   "metadata": {},
   "source": [
    "##### Table Alias "
   ]
  },
  {
   "cell_type": "code",
   "execution_count": null,
   "metadata": {},
   "outputs": [],
   "source": [
    "select col_1,col_2\n",
    "from table_1 as t1 ,table_2 as t2\n",
    "\n",
    "#from table_1  t1 ,table_2  t2   --above can be written in both ways"
   ]
  },
  {
   "cell_type": "code",
   "execution_count": null,
   "metadata": {},
   "outputs": [],
   "source": [
    "select col_1 as c1 ,col_2 as c2\n",
    "from table_1 as t1"
   ]
  },
  {
   "cell_type": "markdown",
   "metadata": {},
   "source": [
    "Self join cannot be used without Alias"
   ]
  },
  {
   "cell_type": "markdown",
   "metadata": {},
   "source": [
    "##### IN operator"
   ]
  },
  {
   "cell_type": "code",
   "execution_count": null,
   "metadata": {},
   "outputs": [],
   "source": [
    "this will filter wrt the input in the list (this should match with the whole content within the cell)"
   ]
  },
  {
   "cell_type": "code",
   "execution_count": null,
   "metadata": {},
   "outputs": [],
   "source": [
    "select col_1,col_2\n",
    "from table_1\n",
    "where col_1 IN ('k','l','o','p');"
   ]
  },
  {
   "cell_type": "markdown",
   "metadata": {},
   "source": [
    "###### OR Operator"
   ]
  },
  {
   "cell_type": "code",
   "execution_count": null,
   "metadata": {},
   "outputs": [],
   "source": [
    "select col_1\n",
    "from table_1\n",
    "where col_2 = 'A'  OR 'B'\n",
    "#If first condition meets then it will not go to check second and return the result"
   ]
  },
  {
   "cell_type": "markdown",
   "metadata": {},
   "source": [
    "###### AND operator"
   ]
  },
  {
   "cell_type": "raw",
   "metadata": {},
   "source": [
    "In the below example without paranthesis, the and and or execute seperately and give the result meeting both the condiion"
   ]
  },
  {
   "cell_type": "code",
   "execution_count": null,
   "metadata": {},
   "outputs": [],
   "source": [
    "select col_1\n",
    "from table_1\n",
    "where col_1 =10 OR col_1 =5\n",
    "And col_2 < 100 ;"
   ]
  },
  {
   "cell_type": "raw",
   "metadata": {},
   "source": [
    "In case if we need to filter Or filter first and inside that resultant data need to apply and followed condition \n",
    "then include a paranthesis"
   ]
  },
  {
   "cell_type": "code",
   "execution_count": null,
   "metadata": {},
   "outputs": [],
   "source": [
    "select col_1\n",
    "from table_1\n",
    "where (col_1 =10 OR col_1 =5)\n",
    "And col_2 < 100 ;"
   ]
  },
  {
   "cell_type": "markdown",
   "metadata": {},
   "source": [
    "#### NOT operator"
   ]
  },
  {
   "cell_type": "code",
   "execution_count": null,
   "metadata": {},
   "outputs": [],
   "source": [
    "select col_1\n",
    "from table_1\n",
    "where NOT col_1= 'A' And  not col_1 ='C';"
   ]
  },
  {
   "cell_type": "markdown",
   "metadata": {},
   "source": [
    "##### WILD CARDS"
   ]
  },
  {
   "cell_type": "raw",
   "metadata": {},
   "source": [
    "%wor    select all the data ends with wor\n",
    "wor%    select all the data starts with wor\n",
    "%wor%   select all the data before and after wor\n",
    "a%P     slect all starts with a and ends with p\n",
    "Wild cards will not work with null\n",
    "wildcards takes longer to run compared to other operators like =,>,<, etc"
   ]
  },
  {
   "cell_type": "code",
   "execution_count": null,
   "metadata": {},
   "outputs": [],
   "source": [
    "select col_1\n",
    "from table_1\n",
    "where col_1 LIKE %ent"
   ]
  },
  {
   "cell_type": "markdown",
   "metadata": {},
   "source": [
    "##### SORT"
   ]
  },
  {
   "cell_type": "code",
   "execution_count": null,
   "metadata": {},
   "outputs": [],
   "source": [
    "select col_1\n",
    "from table_1\n",
    "where col_1 = 15\n",
    "order by col_3 ASC ; #ascending order"
   ]
  },
  {
   "cell_type": "code",
   "execution_count": null,
   "metadata": {},
   "outputs": [],
   "source": [
    "select col_1\n",
    "from table_1\n",
    "where col_1 = 15\n",
    "order by col_3 DESC ; #Descending order"
   ]
  },
  {
   "cell_type": "code",
   "execution_count": null,
   "metadata": {},
   "outputs": [],
   "source": [
    "select col_1\n",
    "from table_1\n",
    "where col_1 = 15\n",
    "order by 2,3,4 DESC ; #Descending order\n",
    "#order by 2nd column then 3rd column etc\n",
    "\n",
    "# order by Col_1,col_2,c-l_4 DESC"
   ]
  },
  {
   "cell_type": "markdown",
   "metadata": {},
   "source": [
    "##### Combining columns or apply math over values"
   ]
  },
  {
   "cell_type": "code",
   "execution_count": null,
   "metadata": {},
   "outputs": [],
   "source": [
    "select col_1 ,\n",
    "       col_1 *col_2 as col_mult\n",
    "from table_1 \n",
    "\n",
    "#creating third column by applying math between columns"
   ]
  },
  {
   "cell_type": "code",
   "execution_count": null,
   "metadata": {},
   "outputs": [],
   "source": [
    "select col_1 ,\n",
    "       col_1 *2 as col_double\n",
    "from table_1 \n",
    "\n",
    "#creating third column by applying math operation with numbericals"
   ]
  },
  {
   "cell_type": "markdown",
   "metadata": {},
   "source": [
    "### Grouping"
   ]
  },
  {
   "cell_type": "raw",
   "metadata": {},
   "source": [
    "below comment will group the table wrt the repetative value of col_2, similar to groupby function inpandsas"
   ]
  },
  {
   "cell_type": "code",
   "execution_count": null,
   "metadata": {},
   "outputs": [],
   "source": [
    "select col_1,col_2\n",
    "from table_1\n",
    "group by col_3;"
   ]
  },
  {
   "cell_type": "markdown",
   "metadata": {},
   "source": [
    "#### Applying Aggregate with groupby"
   ]
  },
  {
   "cell_type": "code",
   "execution_count": null,
   "metadata": {},
   "outputs": [],
   "source": [
    "select col_3 ,count (col_1) as count_col_1\n",
    "from table_1\n",
    "group by col_3"
   ]
  },
  {
   "cell_type": "raw",
   "metadata": {},
   "source": [
    "Above code will group the table_1 wrt the col_3, and appplying count will return the number of records in each group\n",
    "to get this result we can add any col excep the col used to group by ie:col_3"
   ]
  },
  {
   "cell_type": "code",
   "execution_count": null,
   "metadata": {},
   "outputs": [],
   "source": [
    "select col_3 ,sum (col_1) as total_col_1\n",
    "from table_1\n",
    "group by col_3"
   ]
  },
  {
   "cell_type": "raw",
   "metadata": {},
   "source": [
    "Above code will group the table_1 wrt the col_3, and appplying sum will return the sum of records of col_1 in each group"
   ]
  },
  {
   "cell_type": "markdown",
   "metadata": {},
   "source": [
    "##### HAVING function with Groupby"
   ]
  },
  {
   "cell_type": "code",
   "execution_count": null,
   "metadata": {},
   "outputs": [],
   "source": [
    "select col_1,col_2 ,count (col_2) as col_1_count\n",
    "from table_1\n",
    "group by col_1\n",
    "having col_1_count > 15;\n"
   ]
  },
  {
   "cell_type": "markdown",
   "metadata": {},
   "source": [
    "#### SUB Query"
   ]
  },
  {
   "cell_type": "code",
   "execution_count": null,
   "metadata": {},
   "outputs": [],
   "source": []
  },
  {
   "cell_type": "markdown",
   "metadata": {},
   "source": [
    "### Applying Aggregate Function "
   ]
  },
  {
   "cell_type": "markdown",
   "metadata": {},
   "source": [
    "###### Count"
   ]
  },
  {
   "cell_type": "markdown",
   "metadata": {},
   "source": [
    "Count with null value"
   ]
  },
  {
   "cell_type": "code",
   "execution_count": null,
   "metadata": {},
   "outputs": [],
   "source": [
    "select count(*) as total_counts\n",
    "from table_1"
   ]
  },
  {
   "cell_type": "markdown",
   "metadata": {},
   "source": [
    "Count without null value"
   ]
  },
  {
   "cell_type": "code",
   "execution_count": null,
   "metadata": {},
   "outputs": [],
   "source": [
    "select count(col_1) as total_Nonnull\n",
    "from table_1"
   ]
  },
  {
   "cell_type": "markdown",
   "metadata": {},
   "source": [
    "##### MAX /MIn /SUM/ AVG"
   ]
  },
  {
   "cell_type": "code",
   "execution_count": null,
   "metadata": {},
   "outputs": [],
   "source": [
    "select sum(col_1) as total_col_1\n",
    "from table_1   #sum of all the values in col_1"
   ]
  },
  {
   "cell_type": "code",
   "execution_count": null,
   "metadata": {},
   "outputs": [],
   "source": [
    "select max(col_1) as max_col_1\n",
    "from table_1 #max value in col_1"
   ]
  },
  {
   "cell_type": "code",
   "execution_count": null,
   "metadata": {},
   "outputs": [],
   "source": [
    "select min(col_1) as min_col_1\n",
    "from table_1 #min val in col_1"
   ]
  },
  {
   "cell_type": "markdown",
   "metadata": {},
   "source": [
    "###### Distince Function"
   ]
  },
  {
   "cell_type": "raw",
   "metadata": {},
   "source": [
    "If not mentioned mysql will return all the values , including the repetative values\n",
    "if distinct mentioned it will return only the unique values"
   ]
  },
  {
   "cell_type": "code",
   "execution_count": null,
   "metadata": {},
   "outputs": [],
   "source": [
    "select distinct col_3\n",
    "from table_1"
   ]
  },
  {
   "cell_type": "code",
   "execution_count": null,
   "metadata": {},
   "outputs": [],
   "source": [
    "select count(distinct col_3)\n",
    "from table_1"
   ]
  },
  {
   "cell_type": "markdown",
   "metadata": {},
   "source": [
    "### JOINs"
   ]
  },
  {
   "cell_type": "markdown",
   "metadata": {},
   "source": [
    "#### Cross Joins"
   ]
  },
  {
   "cell_type": "code",
   "execution_count": null,
   "metadata": {},
   "outputs": [],
   "source": [
    "select col_t1_1 ,col_t2_1\n",
    "from table_1 CROSS JOIN table_2 ;"
   ]
  },
  {
   "cell_type": "markdown",
   "metadata": {},
   "source": [
    "##### Self Joins"
   ]
  },
  {
   "cell_type": "code",
   "execution_count": null,
   "metadata": {},
   "outputs": [],
   "source": [
    "select col_1,col_2 ..\n",
    "from table_1 as t1 ,table_1 as t2\n",
    "where t1.id =t2.id\n",
    "      And t1.name = t2.name"
   ]
  },
  {
   "cell_type": "markdown",
   "metadata": {},
   "source": [
    "#### Inner Joins"
   ]
  },
  {
   "cell_type": "raw",
   "metadata": {},
   "source": [
    "Joining the tables based on the common ids between the id from table_1 and table_2"
   ]
  },
  {
   "cell_type": "code",
   "execution_count": null,
   "metadata": {},
   "outputs": [],
   "source": [
    "select t1. col_t1_1 , t1. col_t1_2, t2.col_t2.1\n",
    "from table_1 as tl INNER JOIN table_2 as t2  \n",
    "     ON t1.id =t2.id"
   ]
  },
  {
   "cell_type": "raw",
   "metadata": {},
   "source": [
    "Below is an example for nested inner join"
   ]
  },
  {
   "cell_type": "raw",
   "metadata": {},
   "source": [
    "table_1  = id ,col_t1_1 ,col_t1_2 \n",
    "table_2 = id ,cid ,col_t2_1 ,col_t2_2 \n",
    "table_2 = cid ,col_t3_1 ,col_t3_2 "
   ]
  },
  {
   "cell_type": "code",
   "execution_count": null,
   "metadata": {},
   "outputs": [],
   "source": [
    "select t1. col_t1_1 , t1. col_t1_2, t2.col_t2.1 ,t3.col_t3_2 \n",
    "from ((table_1 as tl INNER JOIN table_2 as t2  \n",
    "     ON t1.id =t2.id) \n",
    "           INNER JOIN table_3 as t3 \n",
    "            ON  t3.cid=t2.cid)"
   ]
  },
  {
   "cell_type": "markdown",
   "metadata": {},
   "source": [
    "#### Left Join"
   ]
  },
  {
   "cell_type": "raw",
   "metadata": {},
   "source": [
    "All the records from the left table and matching records from the second table"
   ]
  },
  {
   "cell_type": "raw",
   "metadata": {},
   "source": [
    "table_1  = id ,col_t1_1 ,col_t1_2 \n",
    "table_2 = id ,cid ,col_t2_1 ,col_t2_2 \n",
    "table_2 = cid ,col_t3_1 ,col_t3_2 "
   ]
  },
  {
   "cell_type": "code",
   "execution_count": null,
   "metadata": {},
   "outputs": [],
   "source": [
    "select c.customername , o.orderid\n",
    "\n",
    "from customers c\n",
    "     LEFT JOIN orders o \n",
    "      on c.customerid =o.customerid\n",
    "        "
   ]
  },
  {
   "cell_type": "raw",
   "metadata": {},
   "source": [
    "in above example we have two tables, onw with whole customer id and details and another table with orders \n",
    "so this above query bring all the customer ids from first table and ,include the order id from second table in case any of the \n",
    "customers from table1 placd an order"
   ]
  },
  {
   "cell_type": "markdown",
   "metadata": {},
   "source": [
    "#### Full Outer Join"
   ]
  },
  {
   "cell_type": "code",
   "execution_count": null,
   "metadata": {},
   "outputs": [],
   "source": [
    "select t1.col_1 ,t2.col_1\n",
    "from table_1 as t1\n",
    "     FULL OUTER JOIN table_2 as t2\n",
    "      ON t1. id=t2.id"
   ]
  },
  {
   "cell_type": "code",
   "execution_count": null,
   "metadata": {},
   "outputs": [],
   "source": [
    "Select c.customername, o.orderid\n",
    "from customers as c\n",
    "     FULL OUTER JOIN orders as o\n",
    "     ON c.customerid =o.customerid\n",
    "order by c.customerid"
   ]
  },
  {
   "cell_type": "markdown",
   "metadata": {},
   "source": [
    "### UNION"
   ]
  },
  {
   "cell_type": "code",
   "execution_count": null,
   "metadata": {},
   "outputs": [],
   "source": [
    "select col\n",
    "from table_1\n",
    "UNION\n",
    "select col\n",
    "from table_2;"
   ]
  },
  {
   "cell_type": "code",
   "execution_count": null,
   "metadata": {},
   "outputs": [],
   "source": [
    "select nname,salary \n",
    "from company1\n",
    "where salary > 1000\n",
    "\n",
    "UNION\n",
    "\n",
    "select name,salary\n",
    "from company2\n",
    "where salary >1000"
   ]
  },
  {
   "cell_type": "raw",
   "metadata": {},
   "source": [
    "In union respective columns datatype in both tabls should match"
   ]
  },
  {
   "cell_type": "markdown",
   "metadata": {},
   "source": [
    "#### String Concatination"
   ]
  },
  {
   "cell_type": "code",
   "execution_count": null,
   "metadata": {},
   "outputs": [],
   "source": [
    "select col_1 ,col_2,\n",
    "       col_1 || col_2\n",
    "from table_1\n",
    "\n",
    "#result will be 'col_1col_2'"
   ]
  },
  {
   "cell_type": "code",
   "execution_count": null,
   "metadata": {},
   "outputs": [],
   "source": [
    "select col_1 ,col_2,\n",
    "       col_1 || ' , '  || col_2\n",
    "from table_1\n",
    "\n",
    "result will be 'col_1 , col_2'"
   ]
  },
  {
   "cell_type": "markdown",
   "metadata": {},
   "source": [
    "#### TRIM out the WHITE SPACE"
   ]
  },
  {
   "cell_type": "code",
   "execution_count": null,
   "metadata": {},
   "outputs": [],
   "source": [
    "SELECT \n",
    "    TRIM ( '    MySQL TRIM Function   ')"
   ]
  },
  {
   "cell_type": "code",
   "execution_count": null,
   "metadata": {},
   "outputs": [],
   "source": [
    "LTRIM  #left trim\n",
    "RTRIM  #right trim"
   ]
  },
  {
   "cell_type": "markdown",
   "metadata": {},
   "source": [
    "#### SUB STRINGS"
   ]
  },
  {
   "cell_type": "code",
   "execution_count": null,
   "metadata": {},
   "outputs": [],
   "source": [
    "select col_1\n",
    "       SUBSTR (col_1, 3,4)\n",
    "from Table_1"
   ]
  },
  {
   "cell_type": "code",
   "execution_count": null,
   "metadata": {},
   "outputs": [],
   "source": [
    "in above the first number represents the position counting from 1 as first position,\n",
    "and second is the number of strings from that position \n",
    "for example if the string is p=Englishlanguage , SUBSTR (p, 3,4) gives output 'glis'"
   ]
  },
  {
   "cell_type": "markdown",
   "metadata": {},
   "source": [
    "#### Upper and Lower Case Updation"
   ]
  },
  {
   "cell_type": "code",
   "execution_count": null,
   "metadata": {},
   "outputs": [],
   "source": [
    "select upper (col-1)\n",
    "from table_1"
   ]
  },
  {
   "cell_type": "code",
   "execution_count": null,
   "metadata": {},
   "outputs": [],
   "source": [
    "select  lower (col-1)\n",
    "from table_1"
   ]
  },
  {
   "cell_type": "code",
   "execution_count": null,
   "metadata": {},
   "outputs": [],
   "source": [
    "select ucase (col-1)\n",
    "from table_1"
   ]
  },
  {
   "cell_type": "markdown",
   "metadata": {},
   "source": [
    "## DATE TIME "
   ]
  },
  {
   "cell_type": "markdown",
   "metadata": {},
   "source": [
    "##### Simple Date format Column"
   ]
  },
  {
   "cell_type": "markdown",
   "metadata": {},
   "source": [
    "###### Current data and Time"
   ]
  },
  {
   "cell_type": "code",
   "execution_count": null,
   "metadata": {},
   "outputs": [],
   "source": [
    "SELECT STRFTIME('%Y %m %d', 'now' )  #to get current date\n",
    "\n",
    "#DATE('now')"
   ]
  },
  {
   "cell_type": "code",
   "execution_count": null,
   "metadata": {},
   "outputs": [],
   "source": [
    "SELECT STRFTIME('%H %M %S %s', 'now' )  #to get current hour min sec and millisecond"
   ]
  },
  {
   "cell_type": "markdown",
   "metadata": {},
   "source": [
    "##### Simple Date format Column"
   ]
  },
  {
   "cell_type": "code",
   "execution_count": null,
   "metadata": {},
   "outputs": [],
   "source": [
    "#f date column in the format yyy-mm-day-hh-min-sec \n",
    "\n",
    "select birthdate,\n",
    "        STRFTIME('%Y',Birthdate) AS year,\n",
    "        STRFTIME('%m',birthdate) AS Month,\n",
    "        STRFTIME('%d',birthdate) AS Day\n",
    "from table_1\n",
    " \"\"\"\n",
    " Above code will give you three seperate columns with year month date\n",
    " \"\"\"        "
   ]
  },
  {
   "cell_type": "code",
   "execution_count": null,
   "metadata": {},
   "outputs": [],
   "source": [
    "To get the age "
   ]
  },
  {
   "cell_type": "code",
   "execution_count": null,
   "metadata": {},
   "outputs": [],
   "source": [
    "select birthdate,\n",
    "        STRFTIME('%Y',Birthdate) AS year,\n",
    "        STRFTIME('%m',birthdate) AS Month,\n",
    "        STRFTIME('%d',birthdate) AS Day,\n",
    "        DATE (('NOW') -Birthdate)) as agedata\n",
    "from Table_1         "
   ]
  },
  {
   "cell_type": "markdown",
   "metadata": {},
   "source": [
    "#### CASE"
   ]
  },
  {
   "cell_type": "code",
   "execution_count": null,
   "metadata": {},
   "outputs": [],
   "source": [
    "select col_1 ,col_2,\n",
    "case\n",
    "      WHEN (col_2 between 2 and 3) THEN 'two'\n",
    "      WHEN (col_2 between 4.0 and 5.0) THEN 'four'\n",
    "      else 'None'\n",
    "\n",
    "      end as numbering\n",
    "from table_1"
   ]
  },
  {
   "cell_type": "code",
   "execution_count": null,
   "metadata": {},
   "outputs": [],
   "source": [
    "select col_1 ,col_2,\n",
    "case\n",
    "      WHEN (col_2 <2) THEN 'two'\n",
    "      WHEN (col_2 > 4) THEN 'four'\n",
    "      else 'Three'\n",
    "\n",
    "      end as numbering\n",
    "from table_1"
   ]
  },
  {
   "cell_type": "markdown",
   "metadata": {},
   "source": [
    "#### Views"
   ]
  },
  {
   "cell_type": "code",
   "execution_count": null,
   "metadata": {},
   "outputs": [],
   "source": [
    "#creating a view\n",
    "CREATE VIEW View_01\n",
    "AS \n",
    "SELECT Col_1,\n",
    "from table_1"
   ]
  },
  {
   "cell_type": "code",
   "execution_count": null,
   "metadata": {},
   "outputs": [],
   "source": [
    "select * \n",
    "from View_01"
   ]
  },
  {
   "cell_type": "code",
   "execution_count": null,
   "metadata": {},
   "outputs": [],
   "source": [
    "select * \n",
    "from View_01\n",
    "DROP VIEW view_01"
   ]
  },
  {
   "cell_type": "markdown",
   "metadata": {},
   "source": [
    "# CLEVER CLOUD "
   ]
  },
  {
   "cell_type": "code",
   "execution_count": 28,
   "metadata": {},
   "outputs": [],
   "source": [
    "#!pip3 install mysql-connector-python"
   ]
  },
  {
   "cell_type": "code",
   "execution_count": 2,
   "metadata": {},
   "outputs": [],
   "source": [
    "import mysql.connector\n",
    "import pandas as pd"
   ]
  },
  {
   "cell_type": "code",
   "execution_count": 3,
   "metadata": {},
   "outputs": [],
   "source": [
    "\n",
    "\n",
    "connection = mysql.connector.connect(\n",
    "  host=\"\", # replace username, hostname, password and database name appropriately\n",
    "  user=\"\",\n",
    "  password=\"\",\n",
    "  database=\"\"\n",
    ")\n",
    "\n",
    "cursor1 = connection.cursor()"
   ]
  },
  {
   "cell_type": "code",
   "execution_count": 3,
   "metadata": {},
   "outputs": [],
   "source": [
    "#cursor1.execute(\"CREATE TABLE Test_table (name VARCHAR(255), place VARCHAR(255))\")"
   ]
  },
  {
   "cell_type": "code",
   "execution_count": 4,
   "metadata": {},
   "outputs": [
    {
     "name": "stdout",
     "output_type": "stream",
     "text": [
      "('TRAIL_DA',)\n",
      "('Test_table',)\n"
     ]
    }
   ],
   "source": [
    "cursor1.execute(\"SHOW TABLES\")\n",
    "\n",
    "for x in cursor1:\n",
    "    print(x)"
   ]
  },
  {
   "cell_type": "code",
   "execution_count": 5,
   "metadata": {},
   "outputs": [],
   "source": [
    "#cursor1.execute(\"CREATE TABLE subject (id INT AUTO_INCREMENT PRIMARY KEY, name VARCHAR(255), teacher VARCHAR(255))\") "
   ]
  },
  {
   "cell_type": "code",
   "execution_count": 6,
   "metadata": {},
   "outputs": [],
   "source": [
    "#cursor1.execute(\"ALTER TABLE Test_table ADD COLUMN id INT AUTO_INCREMENT PRIMARY KEY\") "
   ]
  },
  {
   "cell_type": "code",
   "execution_count": 5,
   "metadata": {},
   "outputs": [],
   "source": [
    "cursor1.execute(\"ALTER TABLE Test_table  AUTO_INCREMENT=0\") "
   ]
  },
  {
   "cell_type": "markdown",
   "metadata": {},
   "source": [
    "#### INSERT TUPLES INTO THE DF"
   ]
  },
  {
   "cell_type": "code",
   "execution_count": 6,
   "metadata": {},
   "outputs": [],
   "source": [
    "sql=\"INSERT INTO Test_table (name,place) VALUES (%s ,%s)\"  #insert a single tuple\n",
    "val=('Kiran','Pune')\n",
    "\n",
    "cursor1.execute(sql,val)"
   ]
  },
  {
   "cell_type": "code",
   "execution_count": 7,
   "metadata": {
    "scrolled": true
   },
   "outputs": [
    {
     "name": "stdout",
     "output_type": "stream",
     "text": [
      "1 tuple inserted\n"
     ]
    }
   ],
   "source": [
    "connection.commit()\n",
    "print(cursor1.rowcount,\"tuple inserted\")"
   ]
  },
  {
   "cell_type": "code",
   "execution_count": 8,
   "metadata": {},
   "outputs": [
    {
     "ename": "TypeError",
     "evalue": "execute() missing 1 required positional argument: 'operation'",
     "output_type": "error",
     "traceback": [
      "\u001b[1;31m---------------------------------------------------------------------------\u001b[0m",
      "\u001b[1;31mTypeError\u001b[0m                                 Traceback (most recent call last)",
      "\u001b[1;32m<ipython-input-8-788a9d710628>\u001b[0m in \u001b[0;36m<module>\u001b[1;34m\u001b[0m\n\u001b[1;32m----> 1\u001b[1;33m \u001b[0mcursor1\u001b[0m\u001b[1;33m.\u001b[0m\u001b[0mexecute\u001b[0m\u001b[1;33m(\u001b[0m\u001b[1;33m)\u001b[0m\u001b[1;33m\u001b[0m\u001b[1;33m\u001b[0m\u001b[0m\n\u001b[0m",
      "\u001b[1;31mTypeError\u001b[0m: execute() missing 1 required positional argument: 'operation'"
     ]
    }
   ],
   "source": [
    "cursor1.execute()"
   ]
  },
  {
   "cell_type": "code",
   "execution_count": 9,
   "metadata": {},
   "outputs": [],
   "source": [
    "#cursor1 = connection.cursor()\n",
    "sql=\"INSERT INTO Test_table(name,place) VALUES (%s,%s)\"\n",
    "\n",
    "val=[('christina','Cov'),\n",
    "    ('Sharlene','Cov')]\n",
    "\n",
    "cursor1.executemany(sql,val)"
   ]
  },
  {
   "cell_type": "code",
   "execution_count": 10,
   "metadata": {},
   "outputs": [
    {
     "name": "stdout",
     "output_type": "stream",
     "text": [
      "2 tuple were inserted\n"
     ]
    }
   ],
   "source": [
    "print(cursor1.rowcount,'tuple were inserted')"
   ]
  },
  {
   "cell_type": "markdown",
   "metadata": {},
   "source": [
    "#### SELECT DATA FROM A TABLE"
   ]
  },
  {
   "cell_type": "code",
   "execution_count": 11,
   "metadata": {},
   "outputs": [],
   "source": [
    "cursor1.execute(\"SELECT * FROM Test_table\")"
   ]
  },
  {
   "cell_type": "code",
   "execution_count": 12,
   "metadata": {},
   "outputs": [
    {
     "name": "stdout",
     "output_type": "stream",
     "text": [
      "('Kiran', 'Pune', 1)\n"
     ]
    }
   ],
   "source": [
    "result1 =cursor1.fetchone()   #fetch the first tuple\n",
    "print(result1)"
   ]
  },
  {
   "cell_type": "code",
   "execution_count": 13,
   "metadata": {},
   "outputs": [
    {
     "name": "stdout",
     "output_type": "stream",
     "text": [
      "('christina', 'Cov', 2)\n",
      "('Sharlene', 'Cov', 3)\n",
      "('Kiran', 'Pune', 4)\n",
      "('Kiran', 'Pune', 5)\n",
      "('Kiran', 'Pune', 6)\n",
      "('christina', 'Cov', 7)\n",
      "('Sharlene', 'Cov', 8)\n",
      "('Kiran', 'Pune', 9)\n",
      "('Kiran', 'Pune', 10)\n",
      "('christina', 'Cov', 11)\n",
      "('Sharlene', 'Cov', 12)\n"
     ]
    }
   ],
   "source": [
    "result2=cursor1.fetchall()   #fetch all the tuple\n",
    "\n",
    "for i in result2:\n",
    "    print(i)"
   ]
  },
  {
   "cell_type": "code",
   "execution_count": 14,
   "metadata": {},
   "outputs": [
    {
     "name": "stdout",
     "output_type": "stream",
     "text": [
      "('Kiran',)\n",
      "('christina',)\n",
      "('Sharlene',)\n",
      "('Kiran',)\n",
      "('Kiran',)\n",
      "('Kiran',)\n",
      "('christina',)\n",
      "('Sharlene',)\n",
      "('Kiran',)\n",
      "('Kiran',)\n",
      "('christina',)\n",
      "('Sharlene',)\n"
     ]
    }
   ],
   "source": [
    "cursor1.execute(\"SELECT name FROM Test_table\")\n",
    "\n",
    "myresult3 =cursor1.fetchall()\n",
    "\n",
    "for i in myresult3:\n",
    "    print(i)"
   ]
  },
  {
   "cell_type": "code",
   "execution_count": 15,
   "metadata": {},
   "outputs": [
    {
     "name": "stdout",
     "output_type": "stream",
     "text": [
      "('Pune', 'Kiran')\n",
      "('Cov', 'christina')\n",
      "('Cov', 'Sharlene')\n",
      "('Pune', 'Kiran')\n",
      "('Pune', 'Kiran')\n",
      "('Pune', 'Kiran')\n",
      "('Cov', 'christina')\n",
      "('Cov', 'Sharlene')\n",
      "('Pune', 'Kiran')\n",
      "('Pune', 'Kiran')\n",
      "('Cov', 'christina')\n",
      "('Cov', 'Sharlene')\n"
     ]
    }
   ],
   "source": [
    "cursor1.execute(\"SELECT place,name \n",
    "                FROM Test_table\")\n",
    "\n",
    "myresult4 =cursor1.fetchall()\n",
    "\n",
    "for i in myresult4:\n",
    "    print(i)"
   ]
  },
  {
   "cell_type": "code",
   "execution_count": 18,
   "metadata": {},
   "outputs": [
    {
     "name": "stdout",
     "output_type": "stream",
     "text": [
      "('Kiran', 'Pune')\n",
      "('christina', 'Cov')\n",
      "('Sharlene', 'Cov')\n",
      "('Kiran', 'Pune')\n",
      "('Kiran', 'Pune')\n",
      "('Kiran', 'Pune')\n",
      "('christina', 'Cov')\n",
      "('Sharlene', 'Cov')\n",
      "('Kiran', 'Pune')\n",
      "('christina', 'Cov')\n",
      "('Sharlene', 'Cov')\n"
     ]
    }
   ],
   "source": [
    "cursor1.execute(\"SELECT name ,place FROM Test_table\")\n",
    "myresult5 =cursor1.fetchall()\n",
    "\n",
    "for i in myresult5:\n",
    "    print(i)"
   ]
  },
  {
   "cell_type": "markdown",
   "metadata": {},
   "source": [
    "#### Limit the Display"
   ]
  },
  {
   "cell_type": "code",
   "execution_count": 19,
   "metadata": {},
   "outputs": [
    {
     "name": "stdout",
     "output_type": "stream",
     "text": [
      "('Kiran', 'Pune', 1)\n",
      "('christina', 'Cov', 2)\n"
     ]
    }
   ],
   "source": [
    "cursor1.execute( \"SELECT * FROM Test_table LIMIT 2\")  #show only two results\n",
    "\n",
    "result2 =cursor1.fetchall()\n",
    "\n",
    "for x in result2:\n",
    "    print(x)"
   ]
  },
  {
   "cell_type": "markdown",
   "metadata": {},
   "source": [
    "#### Filter Application"
   ]
  },
  {
   "cell_type": "code",
   "execution_count": 20,
   "metadata": {},
   "outputs": [
    {
     "name": "stdout",
     "output_type": "stream",
     "text": [
      "('Kiran', 'Pune')\n",
      "('Kiran', 'Pune')\n",
      "('Kiran', 'Pune')\n",
      "('Kiran', 'Pune')\n",
      "('Kiran', 'Pune')\n"
     ]
    }
   ],
   "source": [
    "funct1=\"SELECT name ,place FROM Test_table WHERE name ='Kiran'\"\n",
    "\n",
    "cursor1.execute(funct1)\n",
    "result_6 =cursor1.fetchall()\n",
    "\n",
    "for i in result_6:\n",
    "    print(i)"
   ]
  },
  {
   "cell_type": "code",
   "execution_count": 21,
   "metadata": {
    "scrolled": true
   },
   "outputs": [
    {
     "name": "stdout",
     "output_type": "stream",
     "text": [
      "[('Kiran', 'Pune'), ('Kiran', 'Pune'), ('Kiran', 'Pune'), ('Kiran', 'Pune'), ('Kiran', 'Pune')]\n"
     ]
    }
   ],
   "source": [
    "print(result_6)"
   ]
  },
  {
   "cell_type": "markdown",
   "metadata": {},
   "source": [
    "#### Delete Tuples"
   ]
  },
  {
   "cell_type": "code",
   "execution_count": 22,
   "metadata": {},
   "outputs": [
    {
     "name": "stdout",
     "output_type": "stream",
     "text": [
      "5 are delected\n"
     ]
    }
   ],
   "source": [
    "funct2= \"DELETE FROM Test_table WHERE name ='Kiran'\"\n",
    "\n",
    "cursor1.execute(funct2)\n",
    "\n",
    "print(cursor1.rowcount, \"are delected\")"
   ]
  },
  {
   "cell_type": "markdown",
   "metadata": {},
   "source": [
    "#### Fetch Data with Filter"
   ]
  },
  {
   "cell_type": "code",
   "execution_count": 23,
   "metadata": {},
   "outputs": [
    {
     "name": "stdout",
     "output_type": "stream",
     "text": [
      "(3,)\n"
     ]
    }
   ],
   "source": [
    "funct4=\"SELECT count(*) FROM Test_table WHERE name ='Christina'\"\n",
    "\n",
    "cursor1.execute(funct4)\n",
    "\n",
    "result4=cursor1.fetchall()\n",
    "\n",
    "for i in result4:\n",
    "    print(i)"
   ]
  },
  {
   "cell_type": "markdown",
   "metadata": {},
   "source": [
    "#### Table Updation"
   ]
  },
  {
   "cell_type": "code",
   "execution_count": 33,
   "metadata": {},
   "outputs": [
    {
     "name": "stdout",
     "output_type": "stream",
     "text": [
      "3 are affected\n"
     ]
    }
   ],
   "source": [
    "funct5=\"UPDATE Test_table SET name ='kc' WHERE name ='Kiran'\"\n",
    "\n",
    "cursor1.execute(funct5)\n",
    "\n",
    "print(cursor1.rowcount, 'are affected')"
   ]
  },
  {
   "cell_type": "code",
   "execution_count": 34,
   "metadata": {},
   "outputs": [
    {
     "name": "stdout",
     "output_type": "stream",
     "text": [
      "('kc', 'Pune')\n",
      "('Christina C', 'Cov')\n",
      "('Sharlene', 'Cov')\n",
      "('kc', 'Pune')\n",
      "('kc', 'Pune')\n"
     ]
    }
   ],
   "source": [
    "#to check the table for changes\n",
    "funt1=\"SELECT name ,place FROM Test_table \"\n",
    "cursor1.execute(funt1)\n",
    "result_6 =cursor1.fetchall()\n",
    "\n",
    "for i in result_6:\n",
    "    print(i)"
   ]
  },
  {
   "cell_type": "markdown",
   "metadata": {},
   "source": [
    "#### Count the data in the Table"
   ]
  },
  {
   "cell_type": "code",
   "execution_count": 17,
   "metadata": {},
   "outputs": [
    {
     "name": "stdout",
     "output_type": "stream",
     "text": [
      "(2,)\n"
     ]
    }
   ],
   "source": [
    "filt3= \"SELECT count(*) FROM Test_table\"\n",
    "\n",
    "cursor1.execute(filt3)\n",
    "\n",
    "result3 =cursor1.fetchall()\n",
    "\n",
    "for x in result3:\n",
    "        print(x)"
   ]
  },
  {
   "cell_type": "markdown",
   "metadata": {},
   "source": [
    "#### CONVERT INTO PANDAS DF FOR ANALYSIS"
   ]
  },
  {
   "cell_type": "code",
   "execution_count": 66,
   "metadata": {},
   "outputs": [
    {
     "name": "stdout",
     "output_type": "stream",
     "text": [
      "[('christina', 'Cov', 2), ('Sharlene', 'Cov', 3), ('Kiran', 'Pune', 4), ('Kiran', 'Pune', 5), ('Kiran', 'Pune', 6), ('christina', 'Cov', 7), ('Sharlene', 'Cov', 8)]\n"
     ]
    }
   ],
   "source": [
    "print(result2)"
   ]
  },
  {
   "cell_type": "code",
   "execution_count": 74,
   "metadata": {},
   "outputs": [
    {
     "data": {
      "text/plain": [
       "[(('christina', 'Cov', 2),),\n",
       " (('Sharlene', 'Cov', 3),),\n",
       " (('Kiran', 'Pune', 4),),\n",
       " (('Kiran', 'Pune', 5),),\n",
       " (('Kiran', 'Pune', 6),),\n",
       " (('christina', 'Cov', 7),),\n",
       " (('Sharlene', 'Cov', 8),)]"
      ]
     },
     "execution_count": 74,
     "metadata": {},
     "output_type": "execute_result"
    }
   ],
   "source": [
    "col1=list(zip(result2))  #this is just to show the difference of list creation without the * in the command\n",
    "col1"
   ]
  },
  {
   "cell_type": "code",
   "execution_count": 75,
   "metadata": {},
   "outputs": [
    {
     "data": {
      "text/plain": [
       "[('christina', 'Sharlene', 'Kiran', 'Kiran', 'Kiran', 'christina', 'Sharlene'),\n",
       " ('Cov', 'Cov', 'Pune', 'Pune', 'Pune', 'Cov', 'Cov'),\n",
       " (2, 3, 4, 5, 6, 7, 8)]"
      ]
     },
     "execution_count": 75,
     "metadata": {},
     "output_type": "execute_result"
    }
   ],
   "source": [
    "col2=list(zip(*result2))\n",
    "col2"
   ]
  },
  {
   "cell_type": "code",
   "execution_count": 79,
   "metadata": {},
   "outputs": [],
   "source": [
    "df=pd.DataFrame({'name':col2[0],'address':col2[1]})"
   ]
  },
  {
   "cell_type": "code",
   "execution_count": 80,
   "metadata": {
    "scrolled": true
   },
   "outputs": [
    {
     "data": {
      "text/html": [
       "<div>\n",
       "<style scoped>\n",
       "    .dataframe tbody tr th:only-of-type {\n",
       "        vertical-align: middle;\n",
       "    }\n",
       "\n",
       "    .dataframe tbody tr th {\n",
       "        vertical-align: top;\n",
       "    }\n",
       "\n",
       "    .dataframe thead th {\n",
       "        text-align: right;\n",
       "    }\n",
       "</style>\n",
       "<table border=\"1\" class=\"dataframe\">\n",
       "  <thead>\n",
       "    <tr style=\"text-align: right;\">\n",
       "      <th></th>\n",
       "      <th>name</th>\n",
       "      <th>address</th>\n",
       "    </tr>\n",
       "  </thead>\n",
       "  <tbody>\n",
       "    <tr>\n",
       "      <th>0</th>\n",
       "      <td>christina</td>\n",
       "      <td>Cov</td>\n",
       "    </tr>\n",
       "    <tr>\n",
       "      <th>1</th>\n",
       "      <td>Sharlene</td>\n",
       "      <td>Cov</td>\n",
       "    </tr>\n",
       "    <tr>\n",
       "      <th>2</th>\n",
       "      <td>Kiran</td>\n",
       "      <td>Pune</td>\n",
       "    </tr>\n",
       "    <tr>\n",
       "      <th>3</th>\n",
       "      <td>Kiran</td>\n",
       "      <td>Pune</td>\n",
       "    </tr>\n",
       "    <tr>\n",
       "      <th>4</th>\n",
       "      <td>Kiran</td>\n",
       "      <td>Pune</td>\n",
       "    </tr>\n",
       "    <tr>\n",
       "      <th>5</th>\n",
       "      <td>christina</td>\n",
       "      <td>Cov</td>\n",
       "    </tr>\n",
       "    <tr>\n",
       "      <th>6</th>\n",
       "      <td>Sharlene</td>\n",
       "      <td>Cov</td>\n",
       "    </tr>\n",
       "  </tbody>\n",
       "</table>\n",
       "</div>"
      ],
      "text/plain": [
       "        name address\n",
       "0  christina     Cov\n",
       "1   Sharlene     Cov\n",
       "2      Kiran    Pune\n",
       "3      Kiran    Pune\n",
       "4      Kiran    Pune\n",
       "5  christina     Cov\n",
       "6   Sharlene     Cov"
      ]
     },
     "execution_count": 80,
     "metadata": {},
     "output_type": "execute_result"
    }
   ],
   "source": [
    "df"
   ]
  },
  {
   "cell_type": "markdown",
   "metadata": {},
   "source": [
    "#### Table Delection"
   ]
  },
  {
   "cell_type": "code",
   "execution_count": 81,
   "metadata": {},
   "outputs": [],
   "source": [
    "funct6= \"DROP TABLE subject \"\n",
    "#funct6 =\"DROP TABLE IF EXISTS subject\"\n",
    "cursor1.execute(funct6)"
   ]
  },
  {
   "cell_type": "code",
   "execution_count": 82,
   "metadata": {},
   "outputs": [
    {
     "name": "stdout",
     "output_type": "stream",
     "text": [
      "('Test_table',)\n"
     ]
    }
   ],
   "source": [
    "#to display the table in db\n",
    "cursor1.execute(\"SHOW TABLES\") \n",
    "\n",
    "for x in cursor1:\n",
    "    print(x)"
   ]
  },
  {
   "cell_type": "code",
   "execution_count": null,
   "metadata": {},
   "outputs": [],
   "source": []
  },
  {
   "cell_type": "code",
   "execution_count": null,
   "metadata": {},
   "outputs": [],
   "source": []
  }
 ],
 "metadata": {
  "kernelspec": {
   "display_name": "Python 3",
   "language": "python",
   "name": "python3"
  },
  "language_info": {
   "codemirror_mode": {
    "name": "ipython",
    "version": 3
   },
   "file_extension": ".py",
   "mimetype": "text/x-python",
   "name": "python",
   "nbconvert_exporter": "python",
   "pygments_lexer": "ipython3",
   "version": "3.8.5"
  }
 },
 "nbformat": 4,
 "nbformat_minor": 4
}
